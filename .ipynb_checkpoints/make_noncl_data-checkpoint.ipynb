{
 "cells": [
  {
   "cell_type": "code",
   "execution_count": 2,
   "id": "e7092355-8304-437e-8297-edaaa61facfc",
   "metadata": {},
   "outputs": [],
   "source": [
    "import pandas as pd\n",
    "import os\n",
    "import re\n",
    "\n",
    "permutations = [['ORG', 'PER', 'CVL', 'DAT', 'LOC', 'QNT'],\n",
    "               ['DAT', 'QNT', 'PER', 'LOC', 'ORG', 'CVL'],\n",
    "               ['CVL', 'LOC', 'ORG', 'QNT', 'DAT', 'PER'],\n",
    "               ['QNT', 'ORG', 'DAT', 'PER', 'CVL', 'LOC'],\n",
    "               ['LOC', 'CVL', 'QNT', 'ORG', 'PER', 'DAT'],\n",
    "               ['PER', 'DAT', 'LOC', 'CVL', 'QNT', 'ORG']]\n",
    "\n",
    "current_path = './train_data'\n",
    "for perm in range(1, 7):\n",
    "    for step in range(1,6):\n",
    "        for k in range(step+1):\n",
    "            df = pd.read_csv(current_path+'/perm_'+str(perm)+'/d'+str(k)+'_'+permutations[perm-1][k]+'.csv')\n",
    "            label = df['label'].copy()\n",
    "            doc = df['doc'].copy()\n",
    "\n",
    "            past_ents = permutations[perm-1][:step+1]\n",
    "            for search_perm in range(1,7):\n",
    "                if perm == search_perm:\n",
    "                    continue\n",
    "                elif permutations[search_perm-1][k] in past_ents:\n",
    "                    temp = pd.read_csv(current_path+'/perm_'+str(search_perm)+'/d'+str(k)+'_'+permutations[search_perm-1][k]+'.csv')\n",
    "                    temp_label = temp['label'].copy()\n",
    "\n",
    "                    for lab_index in range(len(label)):\n",
    "                        tagged_words = re.findall('<.*?:.*?>', temp_label[lab_index])\n",
    "                        for tag in tagged_words:\n",
    "                            striped = tag.strip('<>').split(':')\n",
    "                            word = \":\".join(striped[:-1])\n",
    "                            label[lab_index] = label[lab_index].replace(word, tag)\n",
    "            if k == 0:\n",
    "                new_df = pd.DataFrame({'doc':doc, 'label':label})\n",
    "            else:\n",
    "                new_df = pd.concat([new_df, pd.DataFrame({'doc':doc, 'label':label})], ignore_index=True)\n",
    "        new_df.to_csv('./full_cl_data/perm_'+str(perm)+'/step'+str(step+1)+'.csv', index=False)\n",
    "                "
   ]
  },
  {
   "cell_type": "code",
   "execution_count": null,
   "id": "9bbd3d47-c91f-43c5-84bb-2b789732b8d7",
   "metadata": {},
   "outputs": [],
   "source": []
  }
 ],
 "metadata": {
  "kernelspec": {
   "display_name": "Python 3 (ipykernel)",
   "language": "python",
   "name": "python3"
  },
  "language_info": {
   "codemirror_mode": {
    "name": "ipython",
    "version": 3
   },
   "file_extension": ".py",
   "mimetype": "text/x-python",
   "name": "python",
   "nbconvert_exporter": "python",
   "pygments_lexer": "ipython3",
   "version": "3.7.16"
  }
 },
 "nbformat": 4,
 "nbformat_minor": 5
}
