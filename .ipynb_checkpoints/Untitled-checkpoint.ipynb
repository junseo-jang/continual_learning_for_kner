{
 "cells": [
  {
   "cell_type": "code",
   "execution_count": 10,
   "id": "35b61630-712f-467d-9925-4bb965e7eeeb",
   "metadata": {
    "tags": []
   },
   "outputs": [],
   "source": [
    "import os\n",
    "\n",
    "for i in range(6):\n",
    "    for j in range(6):\n",
    "        os.makedirs('./transfer/perm_' + str(i+1) + '/step' + str(j+1))"
   ]
  },
  {
   "cell_type": "code",
   "execution_count": 8,
   "id": "fc6b927f-6e77-4a73-a5f6-9ec3531a9520",
   "metadata": {
    "tags": []
   },
   "outputs": [],
   "source": [
    "import os\n",
    "\n",
    "for i in range(6):\n",
    "    os.makedirs('./full_cl_data/perm_' + str(i+1))"
   ]
  },
  {
   "cell_type": "code",
   "execution_count": null,
   "id": "e6474589-24b8-4c80-9df2-69e090b46184",
   "metadata": {},
   "outputs": [],
   "source": [
    "import shutil\n",
    "\n",
    "for i in range(6):\n",
    "    shutil.copyfile('./train_data/perm_' + str(i+1) + '/')"
   ]
  },
  {
   "cell_type": "code",
   "execution_count": 93,
   "id": "5a5450df-34fb-4488-8baa-73394f97f55b",
   "metadata": {},
   "outputs": [],
   "source": [
    "import os \n",
    "import shutil\n",
    "folder = './result_8_8'\n",
    "for perm in os.listdir(folder):\n",
    "    for step in os.listdir(folder + '/'+perm):\n",
    "        for files in os.listdir(folder+'/'+perm+'/'+step+'/final'):\n",
    "            if files.startswith('test'):\n",
    "                pass\n",
    "            else:\n",
    "                if os.path.isdir(folder+'/'+perm+'/'+step+'/final/'+files):\n",
    "                    shutil.rmtree(folder+'/'+perm+'/'+step+'/final/'+files)\n",
    "                else:\n",
    "                    os.remove(folder+'/'+perm+'/'+step+'/final/'+files)"
   ]
  },
  {
   "cell_type": "code",
   "execution_count": 84,
   "id": "8ffcbfd5-3cf3-47c3-91be-8da16ad62919",
   "metadata": {
    "tags": []
   },
   "outputs": [],
   "source": [
    "import shutil\n",
    "\n",
    "for i in range(6):\n",
    "    for j in range(6):\n",
    "        shutil.copytree('./result_1_1/perm_'+str(i+1)+'/step'+str(j+1)+'/final', './temp/perm_'+str(i+1)+'/step'+str(j+1)+'/final')\n",
    "                "
   ]
  },
  {
   "cell_type": "code",
   "execution_count": 7,
   "id": "6b54500c-ee55-47dc-a1cf-59f77b1a0f7d",
   "metadata": {
    "tags": []
   },
   "outputs": [
    {
     "data": {
      "text/plain": [
       "'./20_5e-05_16_2/perm_6/step1/final'"
      ]
     },
     "execution_count": 7,
     "metadata": {},
     "output_type": "execute_result"
    }
   ],
   "source": [
    "import shutil\n",
    "\n",
    "shutil.copytree('./result_1_1/perm_6/step1/final', './20_5e-05_16_2/perm_6/step1/final')"
   ]
  },
  {
   "cell_type": "code",
   "execution_count": null,
   "id": "31d9a066-e30f-41e8-9e35-9de24b7df1d1",
   "metadata": {},
   "outputs": [],
   "source": []
  }
 ],
 "metadata": {
  "kernelspec": {
   "display_name": "junseo",
   "language": "python",
   "name": "temp_kernel"
  },
  "language_info": {
   "codemirror_mode": {
    "name": "ipython",
    "version": 3
   },
   "file_extension": ".py",
   "mimetype": "text/x-python",
   "name": "python",
   "nbconvert_exporter": "python",
   "pygments_lexer": "ipython3",
   "version": "3.7.16"
  }
 },
 "nbformat": 4,
 "nbformat_minor": 5
}
